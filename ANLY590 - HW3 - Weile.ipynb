{
 "cells": [
  {
   "cell_type": "markdown",
   "metadata": {},
   "source": [
    "# Homework 3 By Weile Chen\n",
    "## Problem 1"
   ]
  },
  {
   "cell_type": "code",
   "execution_count": 211,
   "metadata": {},
   "outputs": [],
   "source": [
    "from keras.layers import Input, Dense, Conv2D, MaxPooling2D, UpSampling2D,AveragePooling2D\n",
    "from keras.models import Model\n",
    "from keras import backend as K\n",
    "from keras.preprocessing import image\n",
    "import numpy as np\n",
    "from keras.datasets import mnist\n",
    "from keras.models import Sequential\n",
    "from keras.layers import Dense, Flatten, Conv2D, MaxPooling2D, Dropout\n",
    "from keras.utils import np_utils\n",
    "import matplotlib.pyplot as plt\n",
    "import tensorflow as tf"
   ]
  },
  {
   "cell_type": "code",
   "execution_count": 212,
   "metadata": {},
   "outputs": [],
   "source": [
    "# load data \n",
    "(X_train, y_train), (X_test, y_test) = tf.keras.datasets.fashion_mnist.load_data()"
   ]
  },
  {
   "cell_type": "code",
   "execution_count": 213,
   "metadata": {},
   "outputs": [
    {
     "name": "stdout",
     "output_type": "stream",
     "text": [
      "(60000, 28, 28, 1)\n",
      "(10000, 28, 28, 1)\n"
     ]
    }
   ],
   "source": [
    "# normalize data\n",
    "X_train = X_train.astype('float32')/255\n",
    "X_test = X_test.astype('float32')/255\n",
    "\n",
    "# flatten the 28*28 images into vectors of size 784\n",
    "X_train = X_train.reshape((X_train.shape[0],28,28,1))\n",
    "X_test = X_test.reshape((X_test.shape[0],28,28,1))\n",
    "\n",
    "print(X_train.shape)\n",
    "print(X_test.shape)"
   ]
  },
  {
   "cell_type": "markdown",
   "metadata": {},
   "source": [
    "Build a CNN with convolution layers for the encoder part and UpSampling2D layers for the decoder part."
   ]
  },
  {
   "cell_type": "code",
   "execution_count": 214,
   "metadata": {},
   "outputs": [],
   "source": [
    "# place holder\n",
    "input_img = Input(shape=(28,28,1))\n",
    "\n",
    "# build our encoder\n",
    "x = Conv2D(16,(3,3), activation = 'relu',padding='same')(input_img)\n",
    "x = AveragePooling2D((2,2),padding='same')(x)\n",
    "x = Conv2D(8,(3,3), activation = 'relu',padding='same')(x)\n",
    "x = MaxPooling2D((2,2),padding='same')(x)\n",
    "x = Conv2D(8,(3,3), activation = 'relu',padding='same')(x)\n",
    "x = MaxPooling2D((2,2),padding='same')(x)\n",
    "x = Conv2D(4, (3, 3), activation='relu', padding='same')(x)\n",
    "encoded = MaxPooling2D((2, 2), padding='same')(x)\n",
    "\n",
    "# at this point the representation is (4, 4, 8) i.e. 128-dimensional\n",
    "\n",
    "x = Conv2D(4, (3, 3), activation='relu', padding='same')(encoded)\n",
    "x = UpSampling2D((2, 2))(x)\n",
    "x = Conv2D(8, (3, 3), activation='relu', padding='same')(x)\n",
    "x = UpSampling2D((2, 2))(x)\n",
    "x = Conv2D(8, (3, 3), activation='relu', padding='same')(x)\n",
    "x = UpSampling2D((2, 2))(x)\n",
    "x = Conv2D(16, (3, 3), activation='relu')(x)\n",
    "x = UpSampling2D((2, 2))(x)\n",
    "decoded = Conv2D(1, (3, 3), activation='sigmoid', padding='same')(x)\n",
    "\n",
    "autoencoder = Model(input_img, decoded)\n",
    "autoencoder.compile(optimizer='adadelta', loss='binary_crossentropy')"
   ]
  },
  {
   "cell_type": "code",
   "execution_count": 215,
   "metadata": {},
   "outputs": [
    {
     "name": "stdout",
     "output_type": "stream",
     "text": [
      "Model: \"model_1\"\n",
      "_________________________________________________________________\n",
      "Layer (type)                 Output Shape              Param #   \n",
      "=================================================================\n",
      "input_1 (InputLayer)         (None, 28, 28, 1)         0         \n",
      "_________________________________________________________________\n",
      "conv2d_1 (Conv2D)            (None, 28, 28, 16)        160       \n",
      "_________________________________________________________________\n",
      "average_pooling2d_1 (Average (None, 14, 14, 16)        0         \n",
      "_________________________________________________________________\n",
      "conv2d_2 (Conv2D)            (None, 14, 14, 8)         1160      \n",
      "_________________________________________________________________\n",
      "max_pooling2d_1 (MaxPooling2 (None, 7, 7, 8)           0         \n",
      "_________________________________________________________________\n",
      "conv2d_3 (Conv2D)            (None, 7, 7, 8)           584       \n",
      "_________________________________________________________________\n",
      "max_pooling2d_2 (MaxPooling2 (None, 4, 4, 8)           0         \n",
      "_________________________________________________________________\n",
      "conv2d_4 (Conv2D)            (None, 4, 4, 4)           292       \n",
      "_________________________________________________________________\n",
      "max_pooling2d_3 (MaxPooling2 (None, 2, 2, 4)           0         \n",
      "_________________________________________________________________\n",
      "conv2d_5 (Conv2D)            (None, 2, 2, 4)           148       \n",
      "_________________________________________________________________\n",
      "up_sampling2d_1 (UpSampling2 (None, 4, 4, 4)           0         \n",
      "_________________________________________________________________\n",
      "conv2d_6 (Conv2D)            (None, 4, 4, 8)           296       \n",
      "_________________________________________________________________\n",
      "up_sampling2d_2 (UpSampling2 (None, 8, 8, 8)           0         \n",
      "_________________________________________________________________\n",
      "conv2d_7 (Conv2D)            (None, 8, 8, 8)           584       \n",
      "_________________________________________________________________\n",
      "up_sampling2d_3 (UpSampling2 (None, 16, 16, 8)         0         \n",
      "_________________________________________________________________\n",
      "conv2d_8 (Conv2D)            (None, 14, 14, 16)        1168      \n",
      "_________________________________________________________________\n",
      "up_sampling2d_4 (UpSampling2 (None, 28, 28, 16)        0         \n",
      "_________________________________________________________________\n",
      "conv2d_9 (Conv2D)            (None, 28, 28, 1)         145       \n",
      "=================================================================\n",
      "Total params: 4,537\n",
      "Trainable params: 4,537\n",
      "Non-trainable params: 0\n",
      "_________________________________________________________________\n",
      "None\n"
     ]
    }
   ],
   "source": [
    "print (autoencoder.summary())"
   ]
  },
  {
   "cell_type": "code",
   "execution_count": 216,
   "metadata": {},
   "outputs": [],
   "source": [
    "# for TensorFlow backend training\n",
    "# tensorboard --logdir=/tmp/autoencoder"
   ]
  },
  {
   "cell_type": "code",
   "execution_count": 235,
   "metadata": {},
   "outputs": [
    {
     "name": "stdout",
     "output_type": "stream",
     "text": [
      "Train on 60000 samples, validate on 10000 samples\n",
      "Epoch 1/10\n",
      "60000/60000 [==============================] - 54s 905us/step - loss: 0.4263 - val_loss: 0.3964\n",
      "Epoch 2/10\n",
      "60000/60000 [==============================] - 53s 876us/step - loss: 0.3602 - val_loss: 0.3490\n",
      "Epoch 3/10\n",
      "60000/60000 [==============================] - 54s 897us/step - loss: 0.3445 - val_loss: 0.3377\n",
      "Epoch 4/10\n",
      "60000/60000 [==============================] - 54s 895us/step - loss: 0.3348 - val_loss: 0.3283\n",
      "Epoch 5/10\n",
      "60000/60000 [==============================] - 54s 894us/step - loss: 0.3304 - val_loss: 0.3355\n",
      "Epoch 6/10\n",
      "60000/60000 [==============================] - 56s 937us/step - loss: 0.3272 - val_loss: 0.3273\n",
      "Epoch 7/10\n",
      "60000/60000 [==============================] - 52s 875us/step - loss: 0.3252 - val_loss: 0.3249\n",
      "Epoch 8/10\n",
      "60000/60000 [==============================] - 60s 999us/step - loss: 0.3236 - val_loss: 0.3222\n",
      "Epoch 9/10\n",
      "60000/60000 [==============================] - 56s 939us/step - loss: 0.3220 - val_loss: 0.3247\n",
      "Epoch 10/10\n",
      "60000/60000 [==============================] - 56s 931us/step - loss: 0.3206 - val_loss: 0.3211\n"
     ]
    },
    {
     "data": {
      "text/plain": [
       "<keras.callbacks.callbacks.History at 0x637736a90>"
      ]
     },
     "execution_count": 235,
     "metadata": {},
     "output_type": "execute_result"
    }
   ],
   "source": [
    "from keras.callbacks import TensorBoard\n",
    "\n",
    "autoencoder.fit(X_train, X_train,\n",
    "                epochs=10,\n",
    "                batch_size=128,\n",
    "                shuffle=True,\n",
    "                validation_data=(X_test, X_test),\n",
    "                callbacks=[TensorBoard(log_dir='/tmp/autoencoder')])"
   ]
  },
  {
   "cell_type": "code",
   "execution_count": 236,
   "metadata": {},
   "outputs": [
    {
     "data": {
      "image/png": "[encoded data removed]",
      "text/plain": [
       "<Figure size 1440x288 with 20 Axes>"
      ]
     },
     "metadata": {
      "needs_background": "light"
     },
     "output_type": "display_data"
    }
   ],
   "source": [
    "decoded_imgs = autoencoder.predict(X_test)\n",
    "\n",
    "n = 10\n",
    "plt.figure(figsize=(20, 4))\n",
    "for i in range(n):\n",
    "    # display original\n",
    "    ax = plt.subplot(2, n, i+1)\n",
    "    plt.imshow(X_test[i].reshape(28, 28))\n",
    "    plt.gray()\n",
    "    ax.get_xaxis().set_visible(False)\n",
    "    ax.get_yaxis().set_visible(False)\n",
    "\n",
    "    # display reconstruction\n",
    "    ax = plt.subplot(2, n, i + n+1)\n",
    "    plt.imshow(decoded_imgs[i].reshape(28, 28))\n",
    "    plt.gray()\n",
    "    ax.get_xaxis().set_visible(False)\n",
    "    ax.get_yaxis().set_visible(False)\n",
    "plt.show()"
   ]
  },
  {
   "cell_type": "markdown",
   "metadata": {},
   "source": [
    "## Problem 2\n",
    "### 2.1 Deep CNN\n",
    "Brief description of the deep CNN:\n",
    "We have 3 convolutional layers, 1 max-pooling layer, 2 drop-out layers, 2 dense layers. Kernel size here is 3 by 3, stride is 1 by 1, and no padding."
   ]
  },
  {
   "cell_type": "code",
   "execution_count": 217,
   "metadata": {},
   "outputs": [
    {
     "name": "stdout",
     "output_type": "stream",
     "text": [
      "[0. 0. 0. 0. 0. 0. 0. 0. 0. 1.]\n"
     ]
    }
   ],
   "source": [
    "# we convert our y into one-hot vector\n",
    "Y_train = np_utils.to_categorical(y_train, 10)\n",
    "Y_test = np_utils.to_categorical(y_test, 10)\n",
    "print(Y_test[0])"
   ]
  },
  {
   "cell_type": "code",
   "execution_count": 218,
   "metadata": {},
   "outputs": [],
   "source": [
    "# construct our deep cnn model\n",
    "cnn_model = Sequential()\n",
    "cnn_model.add(Conv2D(filters = 32, kernel_size = (3,3),\n",
    "                    activation = 'relu', strides=(1,1),\n",
    "                    padding='valid'))\n",
    "cnn_model.add(Conv2D(filters = 32, kernel_size = (3,3),\n",
    "                    activation = 'relu', strides=(1,1),\n",
    "                    padding='valid'))\n",
    "cnn_model.add(Conv2D(filters = 32, kernel_size = (3,3),\n",
    "                    activation = 'relu', strides=(1,1),\n",
    "                    padding='valid'))\n",
    "cnn_model.add(MaxPooling2D(pool_size=(2,2)))\n",
    "#cnn_model.add(Dropout(0.25))\n",
    "\n",
    "\n",
    "cnn_model.add(Dropout(0.25))\n",
    "cnn_model.add(Flatten())\n",
    "cnn_model.add(Dense(64, activation='relu'))\n",
    "cnn_model.add(Dropout(0.5))\n",
    "cnn_model.add(Dense(10, activation='softmax'))"
   ]
  },
  {
   "cell_type": "code",
   "execution_count": 221,
   "metadata": {},
   "outputs": [],
   "source": [
    "cnn_model.compile(loss='categorical_crossentropy',\n",
    "              optimizer='adam',\n",
    "              metrics=['accuracy'])"
   ]
  },
  {
   "cell_type": "code",
   "execution_count": 223,
   "metadata": {},
   "outputs": [],
   "source": [
    "cnn_model.summary()"
   ]
  },
  {
   "cell_type": "code",
   "execution_count": 226,
   "metadata": {},
   "outputs": [],
   "source": [
    "model_training = cnn_model.fit(X_train, Y_train,\n",
    "          epochs=15,\n",
    "          batch_size=128,\n",
    "         verbose = 0)"
   ]
  },
  {
   "cell_type": "code",
   "execution_count": 210,
   "metadata": {},
   "outputs": [
    {
     "ename": "NameError",
     "evalue": "name 'model_training' is not defined",
     "output_type": "error",
     "traceback": [
      "\u001b[0;31m---------------------------------------------------------------------------\u001b[0m",
      "\u001b[0;31mNameError\u001b[0m                                 Traceback (most recent call last)",
      "\u001b[0;32m<ipython-input-210-4c6aecf63101>\u001b[0m in \u001b[0;36m<module>\u001b[0;34m\u001b[0m\n\u001b[0;32m----> 1\u001b[0;31m \u001b[0mplt\u001b[0m\u001b[0;34m.\u001b[0m\u001b[0mplot\u001b[0m\u001b[0;34m(\u001b[0m\u001b[0mmodel_training\u001b[0m\u001b[0;34m.\u001b[0m\u001b[0mhistory\u001b[0m\u001b[0;34m[\u001b[0m\u001b[0;34m\"accuracy\"\u001b[0m\u001b[0;34m]\u001b[0m\u001b[0;34m)\u001b[0m\u001b[0;34m\u001b[0m\u001b[0;34m\u001b[0m\u001b[0m\n\u001b[0m\u001b[1;32m      2\u001b[0m \u001b[0mplt\u001b[0m\u001b[0;34m.\u001b[0m\u001b[0mtitle\u001b[0m\u001b[0;34m(\u001b[0m\u001b[0;34m\"Accuracy for training data\"\u001b[0m\u001b[0;34m)\u001b[0m\u001b[0;34m\u001b[0m\u001b[0;34m\u001b[0m\u001b[0m\n\u001b[1;32m      3\u001b[0m \u001b[0mplt\u001b[0m\u001b[0;34m.\u001b[0m\u001b[0mgrid\u001b[0m\u001b[0;34m(\u001b[0m\u001b[0;34m)\u001b[0m\u001b[0;34m\u001b[0m\u001b[0;34m\u001b[0m\u001b[0m\n",
      "\u001b[0;31mNameError\u001b[0m: name 'model_training' is not defined"
     ]
    }
   ],
   "source": [
    "plt.plot(model_training.history[\"accuracy\"])\n",
    "plt.title(\"Accuracy for training data\")\n",
    "plt.grid()"
   ]
  },
  {
   "cell_type": "code",
   "execution_count": 14,
   "metadata": {},
   "outputs": [],
   "source": [
    "_,train_acc = cnn_model.evaluate(X_train,Y_train,verbose=0)\n",
    "_,test_acc = cnn_model.evaluate(X_test,Y_test,verbose=0)"
   ]
  },
  {
   "cell_type": "code",
   "execution_count": 15,
   "metadata": {},
   "outputs": [],
   "source": [
    "from sklearn.metrics import f1_score\n",
    "yhat_train = cnn_model.predict_classes(X_train)\n",
    "yhat_test = cnn_model.predict_classes(X_test)\n",
    "\n",
    "f1_score_train = f1_score(y_train,yhat_train, average='weighted')\n",
    "f1_score_test = f1_score(y_test,yhat_test, average='weighted')"
   ]
  },
  {
   "cell_type": "code",
   "execution_count": 59,
   "metadata": {},
   "outputs": [
    {
     "name": "stdout",
     "output_type": "stream",
     "text": [
      "Deep CNN Performance\n",
      "#############################################################\n",
      "For train data set accuracy is:0.958017, f1 score is:0.957937\n",
      "For test data set accuracy is:0.922300, f1 score is:0.922144\n",
      "#############################################################\n"
     ]
    }
   ],
   "source": [
    "print(\"Deep CNN Performance\")\n",
    "print(\"#############################################################\")\n",
    "print(\"For train data set accuracy is:%f, f1 score is:%f\"\n",
    "      %(train_acc,f1_score_train))\n",
    "print(\"For test data set accuracy is:%f, f1 score is:%f\"\n",
    "      %(test_acc,f1_score_test))\n",
    "print(\"#############################################################\")"
   ]
  },
  {
   "cell_type": "markdown",
   "metadata": {},
   "source": [
    "From above results, we find the performance of our deep CNN is good enough and there is not evidence for overfitting."
   ]
  },
  {
   "cell_type": "markdown",
   "metadata": {},
   "source": [
    "### 2.2 Transfer Learning"
   ]
  },
  {
   "cell_type": "code",
   "execution_count": 51,
   "metadata": {},
   "outputs": [],
   "source": [
    "# construction of our model\n",
    "from keras.applications import VGG16, ResNet50\n",
    "conv_base = VGG16(weights=\"imagenet\",include_top=False,input_shape=(32,32,3))\n",
    "conv_base.trainable = False\n",
    "transfer_learning_model = Sequential()\n",
    "transfer_learning_model.add(conv_base)\n",
    "transfer_learning_model.add(Flatten())\n",
    "transfer_learning_model.add(Dense(10, activation=\"softmax\"))"
   ]
  },
  {
   "cell_type": "code",
   "execution_count": 60,
   "metadata": {},
   "outputs": [
    {
     "name": "stdout",
     "output_type": "stream",
     "text": [
      "Model: \"sequential_4\"\n",
      "_________________________________________________________________\n",
      "Layer (type)                 Output Shape              Param #   \n",
      "=================================================================\n",
      "vgg16 (Model)                (None, 1, 1, 512)         14714688  \n",
      "_________________________________________________________________\n",
      "flatten_4 (Flatten)          (None, 512)               0         \n",
      "_________________________________________________________________\n",
      "dense_13 (Dense)             (None, 10)                5130      \n",
      "=================================================================\n",
      "Total params: 14,719,818\n",
      "Trainable params: 5,130\n",
      "Non-trainable params: 14,714,688\n",
      "_________________________________________________________________\n"
     ]
    }
   ],
   "source": [
    "transfer_learning_model.summary()"
   ]
  },
  {
   "cell_type": "code",
   "execution_count": 54,
   "metadata": {},
   "outputs": [],
   "source": [
    "# data preprocessing\n",
    "import tensorflow as tf\n",
    "## convert gray scale image to rgv\n",
    "def to_rgb(img):\n",
    "    img= K.expand_dims(img, axis=-1)\n",
    "    tiling = [1] * 4    \n",
    "    tiling[-1] *= 3\n",
    "    img= K.tile(img, tiling)\n",
    "    return img\n",
    "\n",
    "with tf.compat.v1.Session() as ses:\n",
    "    X_train_rgb = to_rgb(X_train)\n",
    "    X_test_rgb = to_rgb(X_test)\n",
    "    X_train_rgb = tf.image.resize(X_train_rgb, [32, 32])\n",
    "    X_test_rgb = tf.image.resize(X_test_rgb, [32, 32])\n",
    "    X_train_rgb = ses.run(X_train_rgb)\n",
    "    X_test_rgb= ses.run(X_test_rgb)"
   ]
  },
  {
   "cell_type": "code",
   "execution_count": 55,
   "metadata": {},
   "outputs": [],
   "source": [
    "transfer_learning_model.compile(loss='categorical_crossentropy',optimizer='rmsprop',metrics=[\"acc\"])"
   ]
  },
  {
   "cell_type": "code",
   "execution_count": 56,
   "metadata": {},
   "outputs": [
    {
     "name": "stdout",
     "output_type": "stream",
     "text": [
      "Train on 60000 samples, validate on 10000 samples\n",
      "Epoch 1/10\n",
      "60000/60000 [==============================] - 237s 4ms/step - loss: 1.9941 - acc: 0.7179 - val_loss: 1.0377 - val_acc: 0.7763\n",
      "Epoch 2/10\n",
      "60000/60000 [==============================] - 245s 4ms/step - loss: 0.8209 - acc: 0.8001 - val_loss: 0.7670 - val_acc: 0.8012\n",
      "Epoch 3/10\n",
      "60000/60000 [==============================] - 241s 4ms/step - loss: 0.6703 - acc: 0.8133 - val_loss: 0.7290 - val_acc: 0.8013\n",
      "Epoch 4/10\n",
      "60000/60000 [==============================] - 241s 4ms/step - loss: 0.6147 - acc: 0.8197 - val_loss: 0.7243 - val_acc: 0.7988\n",
      "Epoch 5/10\n",
      "60000/60000 [==============================] - 242s 4ms/step - loss: 0.5849 - acc: 0.8257 - val_loss: 0.6736 - val_acc: 0.8083\n",
      "Epoch 6/10\n",
      "60000/60000 [==============================] - 242s 4ms/step - loss: 0.5720 - acc: 0.8271 - val_loss: 0.6162 - val_acc: 0.8198\n",
      "Epoch 7/10\n",
      "60000/60000 [==============================] - 244s 4ms/step - loss: 0.5726 - acc: 0.8271 - val_loss: 0.6345 - val_acc: 0.8153\n",
      "Epoch 8/10\n",
      "60000/60000 [==============================] - 245s 4ms/step - loss: 0.5684 - acc: 0.8264 - val_loss: 0.7174 - val_acc: 0.8060\n",
      "Epoch 9/10\n",
      "60000/60000 [==============================] - 243s 4ms/step - loss: 0.5627 - acc: 0.8291 - val_loss: 0.6363 - val_acc: 0.8256\n",
      "Epoch 10/10\n",
      "60000/60000 [==============================] - 248s 4ms/step - loss: 0.5637 - acc: 0.8295 - val_loss: 0.6958 - val_acc: 0.8074\n"
     ]
    },
    {
     "data": {
      "text/plain": [
       "<keras.callbacks.callbacks.History at 0x1a4def6a10>"
      ]
     },
     "execution_count": 56,
     "metadata": {},
     "output_type": "execute_result"
    }
   ],
   "source": [
    "transfer_learning_model.fit(X_train_rgb, Y_train, epochs=10, validation_data=(X_test_rgb, Y_test), batch_size=128)"
   ]
  },
  {
   "cell_type": "code",
   "execution_count": 64,
   "metadata": {},
   "outputs": [],
   "source": [
    "# prediction\n",
    "yhat_train = transfer_learning_model.predict_classes(X_train_rgb)\n",
    "yhat_test = transfer_learning_model.predict_classes(X_test_rgb)\n"
   ]
  },
  {
   "cell_type": "code",
   "execution_count": 66,
   "metadata": {},
   "outputs": [],
   "source": [
    "from sklearn.metrics import f1_score,accuracy_score\n",
    "train_acc = accuracy_score(y_train,yhat_train)\n",
    "test_acc = accuracy_score(y_test,yhat_test)\n",
    "f1_score_train = f1_score(y_train,yhat_train, average='weighted')\n",
    "f1_score_test = f1_score(y_test,yhat_test, average='weighted')"
   ]
  },
  {
   "cell_type": "code",
   "execution_count": 68,
   "metadata": {},
   "outputs": [
    {
     "name": "stdout",
     "output_type": "stream",
     "text": [
      "Transfer Learning from VGG16 Performance\n",
      "#############################################################\n",
      "For train data set accuracy is:0.826083, f1 score is:0.819809\n",
      "For test data set accuracy is:0.807400, f1 score is:0.801023\n",
      "#############################################################\n"
     ]
    }
   ],
   "source": [
    "print(\"Transfer Learning from VGG16 Performance\")\n",
    "print(\"#############################################################\")\n",
    "print(\"For train data set accuracy is:%f, f1 score is:%f\"\n",
    "      %(train_a,f1_score_train))\n",
    "print(\"For test data set accuracy is:%f, f1 score is:%f\"\n",
    "      %(test_acc,f1_score_test))\n",
    "print(\"#############################################################\")"
   ]
  },
  {
   "cell_type": "markdown",
   "metadata": {},
   "source": [
    "## Problem 3\n",
    "### 3.1 RNN"
   ]
  },
  {
   "cell_type": "code",
   "execution_count": 345,
   "metadata": {},
   "outputs": [],
   "source": [
    "# --- Libraries ---\n",
    "# - Base libs - \n",
    "import os, sys\n",
    "import numpy as np\n",
    "import pandas as pd\n",
    "import collections\n",
    "import string, re, nltk\n",
    "\n",
    "# -sklearn\n",
    "from sklearn.model_selection import train_test_split\n",
    "\n",
    "# -nltk-\n",
    "from nltk.corpus import stopwords\n",
    "from nltk.tokenize import word_tokenize\n",
    "\n",
    "# -Tensorflow-\n",
    "import tensorflow as tf\n",
    "from tensorflow.python.client import device_lib\n",
    "# -Keras libs-\n",
    "from keras.models import Sequential\n",
    "from keras.layers import Dense, Embedding, SimpleRNN, LSTM, GRU, Input, GlobalMaxPooling1D\n",
    "from keras.utils import plot_model # pydot, graphviz are dependencies\n",
    "from keras.utils.vis_utils import model_to_dot\n",
    "from keras.callbacks import TensorBoard, ModelCheckpoint\n",
    "from keras.preprocessing import sequence\n",
    "from keras.utils import to_categorical\n",
    "from keras.layers import Conv1D, MaxPooling1D, Embedding\n",
    "from keras.models import Model\n",
    "from keras.initializers import Constant\n",
    "\n",
    "\n",
    "# -Plot libs-\n",
    "import matplotlib.pyplot as plt\n",
    "from IPython.display import SVG, display\n",
    "#%matplotlib inline"
   ]
  },
  {
   "cell_type": "code",
   "execution_count": 346,
   "metadata": {},
   "outputs": [],
   "source": [
    "# load data\n",
    "tweets = []\n",
    "categories = []\n",
    "\n",
    "with open('tweets_with_labels.csv',\"r\") as f:\n",
    "    col_names = f.readline()\n",
    "    #col_names = col_names.split()\n",
    "    line = f.readline()\n",
    "    while line:\n",
    "        line = line.split()\n",
    "        line = line[1:len(line)]\n",
    "        tweets.append(' '.join(line[1:len(line)-15]))\n",
    "        category_temp = line[-15:]\n",
    "        categories.append([float(i) for i in category_temp])\n",
    "        line = f.readline()"
   ]
  },
  {
   "cell_type": "code",
   "execution_count": 347,
   "metadata": {},
   "outputs": [
    {
     "data": {
      "text/html": [
       "<div>\n",
       "<style scoped>\n",
       "    .dataframe tbody tr th:only-of-type {\n",
       "        vertical-align: middle;\n",
       "    }\n",
       "\n",
       "    .dataframe tbody tr th {\n",
       "        vertical-align: top;\n",
       "    }\n",
       "\n",
       "    .dataframe thead th {\n",
       "        text-align: right;\n",
       "    }\n",
       "</style>\n",
       "<table border=\"1\" class=\"dataframe\">\n",
       "  <thead>\n",
       "    <tr style=\"text-align: right;\">\n",
       "      <th></th>\n",
       "      <th>k1</th>\n",
       "      <th>k2</th>\n",
       "      <th>k3</th>\n",
       "      <th>k4</th>\n",
       "      <th>k5</th>\n",
       "      <th>k6</th>\n",
       "      <th>k7</th>\n",
       "      <th>k8</th>\n",
       "      <th>k9</th>\n",
       "      <th>k10</th>\n",
       "      <th>k11</th>\n",
       "      <th>k12</th>\n",
       "      <th>k13</th>\n",
       "      <th>k14</th>\n",
       "      <th>k15</th>\n",
       "      <th>tweets</th>\n",
       "    </tr>\n",
       "  </thead>\n",
       "  <tbody>\n",
       "    <tr>\n",
       "      <td>0</td>\n",
       "      <td>0.0</td>\n",
       "      <td>0.0</td>\n",
       "      <td>0.0</td>\n",
       "      <td>0.0</td>\n",
       "      <td>0.0</td>\n",
       "      <td>0.0</td>\n",
       "      <td>0.000</td>\n",
       "      <td>0.0</td>\n",
       "      <td>0.000</td>\n",
       "      <td>1.0</td>\n",
       "      <td>0.0</td>\n",
       "      <td>0.0</td>\n",
       "      <td>0.000</td>\n",
       "      <td>0.0</td>\n",
       "      <td>0.0</td>\n",
       "      <td>for a Rainy Afternoon: {link}</td>\n",
       "    </tr>\n",
       "    <tr>\n",
       "      <td>1</td>\n",
       "      <td>0.0</td>\n",
       "      <td>0.0</td>\n",
       "      <td>0.0</td>\n",
       "      <td>0.0</td>\n",
       "      <td>0.0</td>\n",
       "      <td>0.0</td>\n",
       "      <td>0.000</td>\n",
       "      <td>0.0</td>\n",
       "      <td>0.000</td>\n",
       "      <td>1.0</td>\n",
       "      <td>0.0</td>\n",
       "      <td>0.0</td>\n",
       "      <td>0.000</td>\n",
       "      <td>0.0</td>\n",
       "      <td>0.0</td>\n",
       "      <td>@mention: I love rainy days.</td>\n",
       "    </tr>\n",
       "    <tr>\n",
       "      <td>2</td>\n",
       "      <td>0.0</td>\n",
       "      <td>0.0</td>\n",
       "      <td>0.0</td>\n",
       "      <td>0.0</td>\n",
       "      <td>0.0</td>\n",
       "      <td>0.0</td>\n",
       "      <td>1.000</td>\n",
       "      <td>0.0</td>\n",
       "      <td>0.000</td>\n",
       "      <td>0.0</td>\n",
       "      <td>0.0</td>\n",
       "      <td>0.0</td>\n",
       "      <td>0.000</td>\n",
       "      <td>0.0</td>\n",
       "      <td>0.0</td>\n",
       "      <td>Morning Chicago! Time to kick the Windy City i...</td>\n",
       "    </tr>\n",
       "    <tr>\n",
       "      <td>3</td>\n",
       "      <td>0.0</td>\n",
       "      <td>0.0</td>\n",
       "      <td>0.0</td>\n",
       "      <td>0.0</td>\n",
       "      <td>0.0</td>\n",
       "      <td>0.0</td>\n",
       "      <td>0.604</td>\n",
       "      <td>0.0</td>\n",
       "      <td>0.196</td>\n",
       "      <td>0.0</td>\n",
       "      <td>0.0</td>\n",
       "      <td>0.0</td>\n",
       "      <td>0.201</td>\n",
       "      <td>0.0</td>\n",
       "      <td>0.0</td>\n",
       "      <td>lol! :) RT @mention: #alliwantis this type of ...</td>\n",
       "    </tr>\n",
       "    <tr>\n",
       "      <td>4</td>\n",
       "      <td>0.0</td>\n",
       "      <td>0.0</td>\n",
       "      <td>0.0</td>\n",
       "      <td>0.0</td>\n",
       "      <td>0.0</td>\n",
       "      <td>0.0</td>\n",
       "      <td>0.000</td>\n",
       "      <td>0.0</td>\n",
       "      <td>0.000</td>\n",
       "      <td>0.0</td>\n",
       "      <td>0.0</td>\n",
       "      <td>0.0</td>\n",
       "      <td>1.000</td>\n",
       "      <td>0.0</td>\n",
       "      <td>0.0</td>\n",
       "      <td>good morning sunshine</td>\n",
       "    </tr>\n",
       "  </tbody>\n",
       "</table>\n",
       "</div>"
      ],
      "text/plain": [
       "    k1   k2   k3   k4   k5   k6     k7   k8     k9  k10  k11  k12    k13  k14  \\\n",
       "0  0.0  0.0  0.0  0.0  0.0  0.0  0.000  0.0  0.000  1.0  0.0  0.0  0.000  0.0   \n",
       "1  0.0  0.0  0.0  0.0  0.0  0.0  0.000  0.0  0.000  1.0  0.0  0.0  0.000  0.0   \n",
       "2  0.0  0.0  0.0  0.0  0.0  0.0  1.000  0.0  0.000  0.0  0.0  0.0  0.000  0.0   \n",
       "3  0.0  0.0  0.0  0.0  0.0  0.0  0.604  0.0  0.196  0.0  0.0  0.0  0.201  0.0   \n",
       "4  0.0  0.0  0.0  0.0  0.0  0.0  0.000  0.0  0.000  0.0  0.0  0.0  1.000  0.0   \n",
       "\n",
       "   k15                                             tweets  \n",
       "0  0.0                      for a Rainy Afternoon: {link}  \n",
       "1  0.0                       @mention: I love rainy days.  \n",
       "2  0.0  Morning Chicago! Time to kick the Windy City i...  \n",
       "3  0.0  lol! :) RT @mention: #alliwantis this type of ...  \n",
       "4  0.0                              good morning sunshine  "
      ]
     },
     "execution_count": 347,
     "metadata": {},
     "output_type": "execute_result"
    }
   ],
   "source": [
    "df = pd.DataFrame(categories)\n",
    "df.columns = ['k1','k2','k3','k4','k5','k6','k7','k8','k9','k10','k11','k12','k13','k14','k15']\n",
    "df['tweets'] = tweets\n",
    "df.head(5)"
   ]
  },
  {
   "cell_type": "code",
   "execution_count": 348,
   "metadata": {},
   "outputs": [],
   "source": [
    "# clean data\n",
    "def clean_data(tweet):\n",
    "    # remove all links\n",
    "    tweet = re.sub(r'https?://\\S*', '',tweet)\n",
    "    tweet = tweet.replace('[^\\w\\s]','')\n",
    "    \n",
    "    # remove special signals, tags\n",
    "    tweet = re.sub(r'[#\\-\\.\\n\\;]','',tweet)\n",
    "    tweet = re.sub(r'@[a-zA-Z0-9_]*','',tweet)\n",
    "    tweet = re.sub(r'&\\w+','',tweet)\n",
    "    \n",
    "    # define a stop-words list\n",
    "    stop_words = set(list(string.punctuation)+['rt', 'via',\"''\",\"'s\",\"n't\",\"'m\",'``','day','days']+stopwords.words('english'))\n",
    "    \n",
    "    \n",
    "    # tokenize a tweet\n",
    "    word_tokens = word_tokenize(tweet)\n",
    "    valid_tokens = []\n",
    "    for w in word_tokens:\n",
    "        w = w.lower()\n",
    "        if w not in stop_words:\n",
    "            valid_tokens.append(w)\n",
    "    return ' '.join(valid_tokens)"
   ]
  },
  {
   "cell_type": "code",
   "execution_count": 349,
   "metadata": {},
   "outputs": [
    {
     "data": {
      "text/html": [
       "<div>\n",
       "<style scoped>\n",
       "    .dataframe tbody tr th:only-of-type {\n",
       "        vertical-align: middle;\n",
       "    }\n",
       "\n",
       "    .dataframe tbody tr th {\n",
       "        vertical-align: top;\n",
       "    }\n",
       "\n",
       "    .dataframe thead th {\n",
       "        text-align: right;\n",
       "    }\n",
       "</style>\n",
       "<table border=\"1\" class=\"dataframe\">\n",
       "  <thead>\n",
       "    <tr style=\"text-align: right;\">\n",
       "      <th></th>\n",
       "      <th>k1</th>\n",
       "      <th>k2</th>\n",
       "      <th>k3</th>\n",
       "      <th>k4</th>\n",
       "      <th>k5</th>\n",
       "      <th>k6</th>\n",
       "      <th>k7</th>\n",
       "      <th>k8</th>\n",
       "      <th>k9</th>\n",
       "      <th>k10</th>\n",
       "      <th>k11</th>\n",
       "      <th>k12</th>\n",
       "      <th>k13</th>\n",
       "      <th>k14</th>\n",
       "      <th>k15</th>\n",
       "      <th>tweets</th>\n",
       "      <th>cleaned twt</th>\n",
       "    </tr>\n",
       "  </thead>\n",
       "  <tbody>\n",
       "    <tr>\n",
       "      <td>0</td>\n",
       "      <td>0.0</td>\n",
       "      <td>0.0</td>\n",
       "      <td>0.0</td>\n",
       "      <td>0.0</td>\n",
       "      <td>0.0</td>\n",
       "      <td>0.0</td>\n",
       "      <td>0.000</td>\n",
       "      <td>0.0</td>\n",
       "      <td>0.000</td>\n",
       "      <td>1.0</td>\n",
       "      <td>0.0</td>\n",
       "      <td>0.0</td>\n",
       "      <td>0.000</td>\n",
       "      <td>0.0</td>\n",
       "      <td>0.0</td>\n",
       "      <td>for a Rainy Afternoon: {link}</td>\n",
       "      <td>rainy afternoon link</td>\n",
       "    </tr>\n",
       "    <tr>\n",
       "      <td>1</td>\n",
       "      <td>0.0</td>\n",
       "      <td>0.0</td>\n",
       "      <td>0.0</td>\n",
       "      <td>0.0</td>\n",
       "      <td>0.0</td>\n",
       "      <td>0.0</td>\n",
       "      <td>0.000</td>\n",
       "      <td>0.0</td>\n",
       "      <td>0.000</td>\n",
       "      <td>1.0</td>\n",
       "      <td>0.0</td>\n",
       "      <td>0.0</td>\n",
       "      <td>0.000</td>\n",
       "      <td>0.0</td>\n",
       "      <td>0.0</td>\n",
       "      <td>@mention: I love rainy days.</td>\n",
       "      <td>love rainy</td>\n",
       "    </tr>\n",
       "    <tr>\n",
       "      <td>2</td>\n",
       "      <td>0.0</td>\n",
       "      <td>0.0</td>\n",
       "      <td>0.0</td>\n",
       "      <td>0.0</td>\n",
       "      <td>0.0</td>\n",
       "      <td>0.0</td>\n",
       "      <td>1.000</td>\n",
       "      <td>0.0</td>\n",
       "      <td>0.000</td>\n",
       "      <td>0.0</td>\n",
       "      <td>0.0</td>\n",
       "      <td>0.0</td>\n",
       "      <td>0.000</td>\n",
       "      <td>0.0</td>\n",
       "      <td>0.0</td>\n",
       "      <td>Morning Chicago! Time to kick the Windy City i...</td>\n",
       "      <td>morning chicago time kick windy city nuts head...</td>\n",
       "    </tr>\n",
       "    <tr>\n",
       "      <td>3</td>\n",
       "      <td>0.0</td>\n",
       "      <td>0.0</td>\n",
       "      <td>0.0</td>\n",
       "      <td>0.0</td>\n",
       "      <td>0.0</td>\n",
       "      <td>0.0</td>\n",
       "      <td>0.604</td>\n",
       "      <td>0.0</td>\n",
       "      <td>0.196</td>\n",
       "      <td>0.0</td>\n",
       "      <td>0.0</td>\n",
       "      <td>0.0</td>\n",
       "      <td>0.201</td>\n",
       "      <td>0.0</td>\n",
       "      <td>0.0</td>\n",
       "      <td>lol! :) RT @mention: #alliwantis this type of ...</td>\n",
       "      <td>lol alliwantis type weather time live beautifu...</td>\n",
       "    </tr>\n",
       "    <tr>\n",
       "      <td>4</td>\n",
       "      <td>0.0</td>\n",
       "      <td>0.0</td>\n",
       "      <td>0.0</td>\n",
       "      <td>0.0</td>\n",
       "      <td>0.0</td>\n",
       "      <td>0.0</td>\n",
       "      <td>0.000</td>\n",
       "      <td>0.0</td>\n",
       "      <td>0.000</td>\n",
       "      <td>0.0</td>\n",
       "      <td>0.0</td>\n",
       "      <td>0.0</td>\n",
       "      <td>1.000</td>\n",
       "      <td>0.0</td>\n",
       "      <td>0.0</td>\n",
       "      <td>good morning sunshine</td>\n",
       "      <td>good morning sunshine</td>\n",
       "    </tr>\n",
       "  </tbody>\n",
       "</table>\n",
       "</div>"
      ],
      "text/plain": [
       "    k1   k2   k3   k4   k5   k6     k7   k8     k9  k10  k11  k12    k13  k14  \\\n",
       "0  0.0  0.0  0.0  0.0  0.0  0.0  0.000  0.0  0.000  1.0  0.0  0.0  0.000  0.0   \n",
       "1  0.0  0.0  0.0  0.0  0.0  0.0  0.000  0.0  0.000  1.0  0.0  0.0  0.000  0.0   \n",
       "2  0.0  0.0  0.0  0.0  0.0  0.0  1.000  0.0  0.000  0.0  0.0  0.0  0.000  0.0   \n",
       "3  0.0  0.0  0.0  0.0  0.0  0.0  0.604  0.0  0.196  0.0  0.0  0.0  0.201  0.0   \n",
       "4  0.0  0.0  0.0  0.0  0.0  0.0  0.000  0.0  0.000  0.0  0.0  0.0  1.000  0.0   \n",
       "\n",
       "   k15                                             tweets  \\\n",
       "0  0.0                      for a Rainy Afternoon: {link}   \n",
       "1  0.0                       @mention: I love rainy days.   \n",
       "2  0.0  Morning Chicago! Time to kick the Windy City i...   \n",
       "3  0.0  lol! :) RT @mention: #alliwantis this type of ...   \n",
       "4  0.0                              good morning sunshine   \n",
       "\n",
       "                                         cleaned twt  \n",
       "0                               rainy afternoon link  \n",
       "1                                         love rainy  \n",
       "2  morning chicago time kick windy city nuts head...  \n",
       "3  lol alliwantis type weather time live beautifu...  \n",
       "4                              good morning sunshine  "
      ]
     },
     "execution_count": 349,
     "metadata": {},
     "output_type": "execute_result"
    }
   ],
   "source": [
    "df['cleaned twt'] = df['tweets'].apply(clean_data)\n",
    "df.head(5)"
   ]
  },
  {
   "cell_type": "code",
   "execution_count": 350,
   "metadata": {},
   "outputs": [
    {
     "name": "stdout",
     "output_type": "stream",
     "text": [
      "MAX_NUM_WORDS:73342,max_len:128\n"
     ]
    }
   ],
   "source": [
    "length = df['cleaned twt'].apply(len)\n",
    "max_len = max(length)\n",
    "MAX_NUM_WORDS = len(set(df['cleaned twt'].apply(' '.join)))\n",
    "print(\"MAX_NUM_WORDS:%i,max_len:%i\"%(MAX_NUM_WORDS,max_len))"
   ]
  },
  {
   "cell_type": "code",
   "execution_count": 351,
   "metadata": {},
   "outputs": [],
   "source": [
    "# --- Tokenizing texts ----\n",
    "MAX_NUM_WORDS = 5000 \n",
    "MAX_SEQUENCE_LENGTH = 100 \n",
    "\n",
    "tokenizer = Tokenizer(num_words=MAX_NUM_WORDS)\n",
    "tokenizer.fit_on_texts(df['cleaned twt'])\n",
    "sequences = tokenizer.texts_to_sequences(df['cleaned twt'])\n",
    "X = sequence.pad_sequences(sequences,maxlen=max_len+1)\n",
    "Y = df[df.columns[~df.columns.isin(['cleaned twt','tweets'])]]"
   ]
  },
  {
   "cell_type": "code",
   "execution_count": 352,
   "metadata": {},
   "outputs": [],
   "source": [
    "# split data into train and test sets\n",
    "X_train,X_test,Y_train_twt,Y_test_twt = train_test_split(X,Y,test_size=0.2,random_state=123)\n",
    "\n",
    "\n",
    "X_train_twt = X_train_twt.reshape(X_train.shape+(1,))\n",
    "X_test_twt = X_test_twt.reshape(X_test.shape+(1,))"
   ]
  },
  {
   "cell_type": "code",
   "execution_count": 198,
   "metadata": {},
   "outputs": [],
   "source": [
    "# construction of GRU model\n",
    "gru = Sequential()\n",
    "# gru.add(Embedding(max_len+1,max_len+1))\n",
    "gru.add(GRU(max_len,input_shape = (max_len+1,1), return_sequences = True))\n",
    "gru.add(GRU(15, return_sequences = False))\n",
    "gru.add(Dense(15,activation='softmax'))\n",
    "gru.compile(optimizer=\"rmsprop\", loss=\"categorical_crossentropy\", metrics=[\"acc\"])"
   ]
  },
  {
   "cell_type": "code",
   "execution_count": 199,
   "metadata": {},
   "outputs": [
    {
     "name": "stdout",
     "output_type": "stream",
     "text": [
      "Model: \"sequential_7\"\n",
      "_________________________________________________________________\n",
      "Layer (type)                 Output Shape              Param #   \n",
      "=================================================================\n",
      "gru_12 (GRU)                 (None, 129, 128)          49920     \n",
      "_________________________________________________________________\n",
      "gru_13 (GRU)                 (None, 15)                6480      \n",
      "_________________________________________________________________\n",
      "dense_6 (Dense)              (None, 15)                240       \n",
      "=================================================================\n",
      "Total params: 56,640\n",
      "Trainable params: 56,640\n",
      "Non-trainable params: 0\n",
      "_________________________________________________________________\n"
     ]
    }
   ],
   "source": [
    "gru.summary()"
   ]
  },
  {
   "cell_type": "code",
   "execution_count": 200,
   "metadata": {},
   "outputs": [
    {
     "name": "stdout",
     "output_type": "stream",
     "text": [
      "Train on 49884 samples, validate on 12472 samples\n",
      "Epoch 1/10\n",
      "49884/49884 [==============================] - 129s 3ms/step - loss: 2.4534 - acc: 0.3830 - val_loss: 2.2722 - val_acc: 0.4649\n",
      "Epoch 2/10\n",
      "49884/49884 [==============================] - 130s 3ms/step - loss: 2.2168 - acc: 0.5053 - val_loss: 2.1719 - val_acc: 0.5300\n",
      "Epoch 3/10\n",
      "49884/49884 [==============================] - 133s 3ms/step - loss: 2.1367 - acc: 0.5503 - val_loss: 2.1101 - val_acc: 0.5741\n",
      "Epoch 4/10\n",
      "49884/49884 [==============================] - 129s 3ms/step - loss: 2.0950 - acc: 0.5819 - val_loss: 2.0924 - val_acc: 0.5832\n",
      "Epoch 5/10\n",
      "49884/49884 [==============================] - 129s 3ms/step - loss: 2.0713 - acc: 0.5894 - val_loss: 2.0648 - val_acc: 0.5940\n",
      "Epoch 6/10\n",
      "49884/49884 [==============================] - 128s 3ms/step - loss: 2.0594 - acc: 0.5877 - val_loss: 2.0531 - val_acc: 0.5920\n",
      "Epoch 7/10\n",
      "49884/49884 [==============================] - 128s 3ms/step - loss: 2.0496 - acc: 0.5931 - val_loss: 2.0442 - val_acc: 0.5873\n",
      "Epoch 8/10\n",
      "49884/49884 [==============================] - 132s 3ms/step - loss: 2.0460 - acc: 0.5951 - val_loss: 2.1345 - val_acc: 0.5483\n",
      "Epoch 9/10\n",
      "49884/49884 [==============================] - 129s 3ms/step - loss: 2.0459 - acc: 0.5959 - val_loss: 2.0695 - val_acc: 0.5659\n",
      "Epoch 10/10\n",
      "49884/49884 [==============================] - 129s 3ms/step - loss: 2.0447 - acc: 0.5974 - val_loss: 2.0458 - val_acc: 0.5961\n"
     ]
    }
   ],
   "source": [
    "gru_history = gru.fit(X_train_twt,Y_train_twt,epochs = 10,batch_size=128,validation_split = 0.2,verbose=True)"
   ]
  },
  {
   "cell_type": "code",
   "execution_count": 225,
   "metadata": {},
   "outputs": [
    {
     "data": {
      "image/png": "[encoded data removed]",
      "text/plain": [
       "<Figure size 432x288 with 1 Axes>"
      ]
     },
     "metadata": {
      "needs_background": "light"
     },
     "output_type": "display_data"
    }
   ],
   "source": [
    "plt.plot(gru_history.history[\"acc\"])\n",
    "plt.title(\"Accuracy for GRU during training\")\n",
    "plt.grid()"
   ]
  },
  {
   "cell_type": "code",
   "execution_count": 205,
   "metadata": {},
   "outputs": [],
   "source": [
    "_,gru_train_acc = gru.evaluate(X_train_twt,Y_train_twt,verbose=0)\n",
    "_,gru_test_acc = gru.evaluate(X_test_twt,Y_test_twt,verbose=0)"
   ]
  },
  {
   "cell_type": "code",
   "execution_count": 202,
   "metadata": {},
   "outputs": [],
   "source": [
    "yhat_train_gru = gru.predict_classes(X_train_twt)\n",
    "yhat_test_gru = gru.predict_classes(X_test_twt)"
   ]
  },
  {
   "cell_type": "code",
   "execution_count": 209,
   "metadata": {},
   "outputs": [
    {
     "name": "stdout",
     "output_type": "stream",
     "text": [
      "GRU model for text classification\n",
      "#############################################################\n",
      "The accuracy for the train data set is:0.598563 \n",
      "The accuracy for the test data set is:0.599166\n",
      "#############################################################\n"
     ]
    }
   ],
   "source": [
    "print(\"GRU model for text classification\")\n",
    "print(\"#############################################################\")\n",
    "print(\"The accuracy for the train data set is:%f \\nThe accuracy for the test data set is:%f\"\n",
    "      %(gru_train_acc,gru_test_acc))\n",
    "print(\"#############################################################\")"
   ]
  },
  {
   "cell_type": "markdown",
   "metadata": {},
   "source": [
    "Since we use softmax for our final output, it would not really meet our final goal for this task. Therefore, the accuracy is not good. We could use a sigmoid for each category. Or, we could use a seq2seq model for this task. Furthermore, since each tweet is associated with one or more topics, a topic model like LDA would be a good choice. Alternatively, we could add a world-embedding layer to our model. But, it would require more computing power."
   ]
  },
  {
   "cell_type": "markdown",
   "metadata": {},
   "source": [
    "### 3.2 CNN\n",
    "The idea here is to add a pre-trained world-embedding model to our simple cnn model."
   ]
  },
  {
   "cell_type": "code",
   "execution_count": 533,
   "metadata": {},
   "outputs": [
    {
     "name": "stdout",
     "output_type": "stream",
     "text": [
      "Found 400000 word vectors.\n"
     ]
    }
   ],
   "source": [
    "BASE_DIR = ''\n",
    "GLOVE_DIR = os.path.join(BASE_DIR, 'glove.6B')\n",
    "MAX_SEQUENCE_LENGTH = max_len+1\n",
    "EMBEDDING_DIM = 300\n",
    "\n",
    "# first, build index mapping words in the embeddings set to their embedding vector\n",
    "embeddings_index = {}\n",
    "with open(os.path.join(GLOVE_DIR, 'glove.6B.300d.txt')) as f:\n",
    "    for line in f:\n",
    "        word, coefs = line.split(maxsplit=1)\n",
    "        coefs = np.fromstring(coefs, 'f', sep=' ')\n",
    "        embeddings_index[word] = coefs\n",
    "\n",
    "print('Found %s word vectors.' % len(embeddings_index))"
   ]
  },
  {
   "cell_type": "code",
   "execution_count": 534,
   "metadata": {},
   "outputs": [],
   "source": [
    "# prepare embedding matrix\n",
    "word_index = tokenizer.word_index\n",
    "num_words = min(MAX_NUM_WORDS, len(word_index)+1)\n",
    "embedding_matrix = np.zeros((num_words, EMBEDDING_DIM))\n",
    "for word, i in word_index.items():\n",
    "    if i >= MAX_NUM_WORDS:\n",
    "        continue\n",
    "    embedding_vector = embeddings_index.get(word)\n",
    "    if embedding_vector is not None:\n",
    "        # words not found in embedding index will be all-zeros.\n",
    "        embedding_matrix[i] = embedding_vector"
   ]
  },
  {
   "cell_type": "code",
   "execution_count": 535,
   "metadata": {},
   "outputs": [],
   "source": [
    "# load pre-trained word embeddings into an Embedding layer\n",
    "# note that we set trainable = False so as to keep the embeddings fixed\n",
    "embedding_layer = Embedding(num_words,\n",
    "                            EMBEDDING_DIM,\n",
    "                            embeddings_initializer=Constant(embedding_matrix),\n",
    "                            input_length=MAX_SEQUENCE_LENGTH,\n",
    "                            trainable=False)"
   ]
  },
  {
   "cell_type": "code",
   "execution_count": 549,
   "metadata": {},
   "outputs": [
    {
     "name": "stdout",
     "output_type": "stream",
     "text": [
      "Model: \"sequential_47\"\n",
      "_________________________________________________________________\n",
      "Layer (type)                 Output Shape              Param #   \n",
      "=================================================================\n",
      "embedding_15 (Embedding)     (None, 129, 300)          1500000   \n",
      "_________________________________________________________________\n",
      "conv1d_141 (Conv1D)          (None, 128, 8)            4808      \n",
      "_________________________________________________________________\n",
      "max_pooling1d_87 (MaxPooling (None, 64, 8)             0         \n",
      "_________________________________________________________________\n",
      "flatten_48 (Flatten)         (None, 512)               0         \n",
      "_________________________________________________________________\n",
      "dense_152 (Dense)            (None, 64)                32832     \n",
      "_________________________________________________________________\n",
      "dense_153 (Dense)            (None, 32)                2080      \n",
      "_________________________________________________________________\n",
      "dense_154 (Dense)            (None, 15)                495       \n",
      "=================================================================\n",
      "Total params: 1,540,215\n",
      "Trainable params: 40,215\n",
      "Non-trainable params: 1,500,000\n",
      "_________________________________________________________________\n"
     ]
    }
   ],
   "source": [
    "cnn_twt = Sequential()\n",
    "cnn_twt.add(embedding_layer)\n",
    "# cnn_twt.add(Conv1D(64,5))\n",
    "# cnn_twt.add(MaxPooling1D(5))\n",
    "cnn_twt.add(Conv1D(8,2))\n",
    "cnn_twt.add(MaxPooling1D(2))\n",
    "cnn_twt.add(Flatten())\n",
    "# cnn_twt.add(Dense(128, activation=\"relu\"))\n",
    "#cnn_twt.add(Dense(64, activation=\"relu\"))\n",
    "cnn_twt.add(Dense(64, activation=\"softmax\"))\n",
    "cnn_twt.add(Dense(32, activation=\"softmax\"))\n",
    "cnn_twt.add(Dense(15, activation=\"softmax\"))\n",
    "\n",
    "cnn_twt.compile(optimizer=\"rmsprop\", loss=\"categorical_crossentropy\", metrics=[\"acc\"])\n",
    "cnn_twt.summary()"
   ]
  },
  {
   "cell_type": "code",
   "execution_count": 550,
   "metadata": {},
   "outputs": [
    {
     "name": "stdout",
     "output_type": "stream",
     "text": [
      "Train on 62356 samples, validate on 15590 samples\n",
      "Epoch 1/10\n",
      "62356/62356 [==============================] - 18s 296us/step - loss: 2.8933 - acc: 0.2801 - val_loss: 2.6983 - val_acc: 0.2919\n",
      "Epoch 2/10\n",
      "62356/62356 [==============================] - 19s 305us/step - loss: 2.5770 - acc: 0.3261 - val_loss: 2.4370 - val_acc: 0.5012\n",
      "Epoch 3/10\n",
      "62356/62356 [==============================] - 19s 301us/step - loss: 2.3180 - acc: 0.5036 - val_loss: 2.1992 - val_acc: 0.5048\n",
      "Epoch 4/10\n",
      "62356/62356 [==============================] - 19s 306us/step - loss: 2.1227 - acc: 0.5065 - val_loss: 2.0583 - val_acc: 0.5072\n",
      "Epoch 5/10\n",
      "62356/62356 [==============================] - 19s 305us/step - loss: 2.0207 - acc: 0.5241 - val_loss: 1.9918 - val_acc: 0.5250\n",
      "Epoch 6/10\n",
      "62356/62356 [==============================] - 19s 301us/step - loss: 1.9773 - acc: 0.5291 - val_loss: 1.9710 - val_acc: 0.5254\n",
      "Epoch 7/10\n",
      "62356/62356 [==============================] - 19s 305us/step - loss: 1.9597 - acc: 0.5302 - val_loss: 1.9654 - val_acc: 0.5283\n",
      "Epoch 8/10\n",
      "62356/62356 [==============================] - 19s 306us/step - loss: 1.9478 - acc: 0.5313 - val_loss: 1.9561 - val_acc: 0.5293\n",
      "Epoch 9/10\n",
      "62356/62356 [==============================] - 19s 301us/step - loss: 1.9320 - acc: 0.5403 - val_loss: 1.9355 - val_acc: 0.5456\n",
      "Epoch 10/10\n",
      "62356/62356 [==============================] - 19s 307us/step - loss: 1.9086 - acc: 0.5578 - val_loss: 1.9088 - val_acc: 0.5572\n"
     ]
    }
   ],
   "source": [
    "cnn_history1 = cnn_twt.fit(X_train,Y_train_twt,batch_size =128,epochs=10,validation_data=(X_test,Y_test_twt))"
   ]
  },
  {
   "cell_type": "code",
   "execution_count": 552,
   "metadata": {},
   "outputs": [],
   "source": [
    "_,cnn_train_acc = cnn_twt.evaluate(X_train,Y_train_twt,verbose=0)\n",
    "_,cnn_test_acc = cnn_twt.evaluate(X_test,Y_test_twt,verbose=0)"
   ]
  },
  {
   "cell_type": "code",
   "execution_count": 554,
   "metadata": {},
   "outputs": [
    {
     "data": {
      "image/png": "[encoded data removed]",
      "text/plain": [
       "<Figure size 432x288 with 1 Axes>"
      ]
     },
     "metadata": {
      "needs_background": "light"
     },
     "output_type": "display_data"
    }
   ],
   "source": [
    "plt.plot(cnn_history1.history[\"acc\"])\n",
    "plt.title(\"Accuracy for CNN during training\")\n",
    "plt.grid()"
   ]
  },
  {
   "cell_type": "code",
   "execution_count": 553,
   "metadata": {},
   "outputs": [
    {
     "name": "stdout",
     "output_type": "stream",
     "text": [
      "CNN model with pre-trained embedding layer for text classification\n",
      "#############################################################\n",
      "The accuracy for the train data set is:0.565094 \n",
      "The accuracy for the test data set is:0.557152\n",
      "#############################################################\n"
     ]
    }
   ],
   "source": [
    "print(\"CNN model with pre-trained embedding layer for text classification\")\n",
    "print(\"#############################################################\")\n",
    "print(\"The accuracy for the train data set is:%f \\nThe accuracy for the test data set is:%f\"\n",
    "      %(cnn_train_acc,cnn_test_acc))\n",
    "print(\"#############################################################\")"
   ]
  },
  {
   "cell_type": "markdown",
   "metadata": {},
   "source": [
    "### 3.3 Comparison\n"
   ]
  },
  {
   "cell_type": "code",
   "execution_count": null,
   "metadata": {},
   "outputs": [],
   "source": []
  }
 ],
 "metadata": {
  "kernelspec": {
   "display_name": "Python 3",
   "language": "python",
   "name": "python3"
  },
  "language_info": {
   "codemirror_mode": {
    "name": "ipython",
    "version": 3
   },
   "file_extension": ".py",
   "mimetype": "text/x-python",
   "name": "python",
   "nbconvert_exporter": "python",
   "pygments_lexer": "ipython3",
   "version": "3.7.4"
  }
 },
 "nbformat": 4,
 "nbformat_minor": 2
}
